{
 "cells": [
  {
   "cell_type": "code",
   "execution_count": 3,
   "id": "b864df1f-3b61-4d10-b63e-a0e0bb7a2acd",
   "metadata": {},
   "outputs": [],
   "source": [
    "from pathlib import Path\n",
    "import pandas as pd\n",
    "import requests\n",
    "\n",
    "def fetch_raw_data(year: int, month: int) -> str:\n",
    "    url = f\"https://d37ci6vzurychx.cloudfront.net/trip-data/yellow_tripdata_{year}-{month:02}.parquet\"\n",
    "    response = requests.get(url)\n",
    "    if response.status_code == 200:\n",
    "        # Use pathlib to construct the path\n",
    "        path = Path(\"..\") / \"data\" / \"raw\" / f\"rides_{year}_{month:02}.parquet\"\n",
    "        # Ensure the parent directory exists\n",
    "        path.parent.mkdir(parents=True, exist_ok=True)\n",
    "        # Write the content to the file\n",
    "        path.write_bytes(response.content)\n",
    "        print(f\"Successfully fetched: {str(path)}\")\n",
    "        return str(path)\n",
    "    else:\n",
    "        raise Exception(f\"{url} is not available\")"
   ]
  },
  {
   "cell_type": "code",
   "execution_count": 24,
   "id": "ea3d5f04-c44f-4f2f-9d32-64508e212d29",
   "metadata": {},
   "outputs": [
    {
     "name": "stdout",
     "output_type": "stream",
     "text": [
      "Successfully fetched: ../data/raw/rides_2021_01.parquet\n",
      "Successfully fetched: ../data/raw/rides_2021_02.parquet\n",
      "Successfully fetched: ../data/raw/rides_2021_03.parquet\n",
      "Successfully fetched: ../data/raw/rides_2021_04.parquet\n",
      "Successfully fetched: ../data/raw/rides_2021_05.parquet\n",
      "Successfully fetched: ../data/raw/rides_2021_06.parquet\n",
      "Successfully fetched: ../data/raw/rides_2021_07.parquet\n",
      "Successfully fetched: ../data/raw/rides_2021_08.parquet\n",
      "Successfully fetched: ../data/raw/rides_2021_09.parquet\n",
      "Successfully fetched: ../data/raw/rides_2021_10.parquet\n",
      "Successfully fetched: ../data/raw/rides_2021_11.parquet\n",
      "Successfully fetched: ../data/raw/rides_2021_12.parquet\n"
     ]
    }
   ],
   "source": [
    "month = 1\n",
    "year = 2021\n",
    "for month in range(1,13):\n",
    "    path = Path(\"..\") / \"data\" / \"raw\" / f\"rides_{year}_{month:02}.parquet\"\n",
    "    fetch_raw_data(year, month)"
   ]
  },
  {
   "cell_type": "code",
   "execution_count": 6,
   "id": "61a6e104",
   "metadata": {},
   "outputs": [
    {
     "data": {
      "text/plain": [
       "2463931"
      ]
     },
     "execution_count": 6,
     "metadata": {},
     "output_type": "execute_result"
    }
   ],
   "source": [
    "import pyarrow.parquet as pq\n",
    "table = pq.read_table(path)\n",
    "rides = table.to_pandas()\n",
    "len(rides)"
   ]
  },
  {
   "cell_type": "code",
   "execution_count": 19,
   "id": "89715087",
   "metadata": {},
   "outputs": [],
   "source": [
    "month = 2\n",
    "total_rides = {}\n",
    "for year in range(2012,2025):\n",
    "    path = Path(\"..\") / \"data\" / \"raw\" / f\"rides_{year}_{month:02}.parquet\"\n",
    "    table = pq.read_table(path)\n",
    "    rides = table.to_pandas()\n",
    "    total_rides[year] = f\"{len(rides):,}\""
   ]
  },
  {
   "cell_type": "code",
   "execution_count": 18,
   "id": "3d3623f7",
   "metadata": {},
   "outputs": [
    {
     "data": {
      "text/plain": [
       "{2012: '13,058,348',\n",
       " 2013: '14,776,617',\n",
       " 2014: '13,782,517',\n",
       " 2015: '12,741,035',\n",
       " 2016: '10,905,067',\n",
       " 2017: '9,710,820',\n",
       " 2018: '8,760,687',\n",
       " 2019: '7,696,617',\n",
       " 2020: '6,405,008',\n",
       " 2021: '1,369,769',\n",
       " 2022: '2,463,931',\n",
       " 2023: '3,066,766',\n",
       " 2024: '2,964,624'}"
      ]
     },
     "execution_count": 18,
     "metadata": {},
     "output_type": "execute_result"
    }
   ],
   "source": [
    "total_rides"
   ]
  },
  {
   "cell_type": "code",
   "execution_count": 25,
   "id": "de37b7ec",
   "metadata": {},
   "outputs": [],
   "source": [
    "total_rides = {}\n",
    "for month in range(1, 13):\n",
    "    total_rides[month] = {}\n",
    "    for year in range(2021,2025):    \n",
    "        path = Path(\"..\") / \"data\" / \"raw\" / f\"rides_{year}_{month:02}.parquet\"\n",
    "        table = pq.read_table(path)\n",
    "        rides = table.to_pandas()\n",
    "        total_rides[month][year] = f\"{len(rides):,}\""
   ]
  },
  {
   "cell_type": "code",
   "execution_count": 26,
   "id": "3824b5de",
   "metadata": {},
   "outputs": [
    {
     "data": {
      "text/plain": [
       "{1: {2021: '1,369,769',\n",
       "  2022: '2,463,931',\n",
       "  2023: '3,066,766',\n",
       "  2024: '2,964,624'},\n",
       " 2: {2021: '1,371,709',\n",
       "  2022: '2,979,431',\n",
       "  2023: '2,913,955',\n",
       "  2024: '3,007,526'},\n",
       " 3: {2021: '1,925,152',\n",
       "  2022: '3,627,882',\n",
       "  2023: '3,403,766',\n",
       "  2024: '3,582,628'},\n",
       " 4: {2021: '2,171,187',\n",
       "  2022: '3,599,920',\n",
       "  2023: '3,288,250',\n",
       "  2024: '3,514,289'},\n",
       " 5: {2021: '2,507,109',\n",
       "  2022: '3,588,295',\n",
       "  2023: '3,513,649',\n",
       "  2024: '3,723,833'},\n",
       " 6: {2021: '2,834,264',\n",
       "  2022: '3,558,124',\n",
       "  2023: '3,307,234',\n",
       "  2024: '3,539,193'},\n",
       " 7: {2021: '2,821,746',\n",
       "  2022: '3,174,394',\n",
       "  2023: '2,907,108',\n",
       "  2024: '3,076,903'},\n",
       " 8: {2021: '2,788,757',\n",
       "  2022: '3,152,677',\n",
       "  2023: '2,824,209',\n",
       "  2024: '2,979,183'},\n",
       " 9: {2021: '2,963,793',\n",
       "  2022: '3,183,767',\n",
       "  2023: '2,846,722',\n",
       "  2024: '3,633,030'},\n",
       " 10: {2021: '3,463,504',\n",
       "  2022: '3,675,411',\n",
       "  2023: '3,522,285',\n",
       "  2024: '3,833,771'},\n",
       " 11: {2021: '3,472,949',\n",
       "  2022: '3,252,717',\n",
       "  2023: '3,339,715',\n",
       "  2024: '3,646,369'},\n",
       " 12: {2021: '3,214,369',\n",
       "  2022: '3,399,549',\n",
       "  2023: '3,376,567',\n",
       "  2024: '3,668,371'}}"
      ]
     },
     "execution_count": 26,
     "metadata": {},
     "output_type": "execute_result"
    }
   ],
   "source": [
    "total_rides"
   ]
  }
 ],
 "metadata": {
  "kernelspec": {
   "display_name": "yellowtaxi",
   "language": "python",
   "name": "python3"
  },
  "language_info": {
   "codemirror_mode": {
    "name": "ipython",
    "version": 3
   },
   "file_extension": ".py",
   "mimetype": "text/x-python",
   "name": "python",
   "nbconvert_exporter": "python",
   "pygments_lexer": "ipython3",
   "version": "3.11.11"
  }
 },
 "nbformat": 4,
 "nbformat_minor": 5
}
